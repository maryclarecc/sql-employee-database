{
 "cells": [
  {
   "cell_type": "code",
   "execution_count": 95,
   "id": "6754b1f5-abcc-4a6f-9a26-e5cf1f052fa5",
   "metadata": {},
   "outputs": [],
   "source": [
    "import pandas as pd\n",
    "# from sqlalchemy import create_engine\n",
    "# import urllib\n",
    "# params = urllib.parse.quote_plus(\"PWD=posgres\")\n",
    "# engine = create_engine('postgresql://localhost:5432/sql_employee_db' % params)\n",
    "# connection = engine.connect()\n",
    "import psycopg2\n",
    "import matplotlib.pyplot as plt\n",
    "\n",
    "conn = psycopg2.connect(\n",
    "    database=\"sql_employee_db\",\n",
    "    user=\"postgres\",\n",
    "    password=\"postgres\")\n",
    "\n",
    "# Query All Records in the the Database\n",
    "sal = pd.read_sql(\"SELECT * FROM salaries\", conn)\n",
    "title = pd.read_sql(\"SELECT * FROM titles\", conn)\n",
    "employees = pd.read_sql(\"SELECT * FROM employees\", conn)"
   ]
  },
  {
   "cell_type": "code",
   "execution_count": 96,
   "id": "69500259-4960-4939-a571-3d8aaa258146",
   "metadata": {},
   "outputs": [
    {
     "data": {
      "text/html": [
       "<div>\n",
       "<style scoped>\n",
       "    .dataframe tbody tr th:only-of-type {\n",
       "        vertical-align: middle;\n",
       "    }\n",
       "\n",
       "    .dataframe tbody tr th {\n",
       "        vertical-align: top;\n",
       "    }\n",
       "\n",
       "    .dataframe thead th {\n",
       "        text-align: right;\n",
       "    }\n",
       "</style>\n",
       "<table border=\"1\" class=\"dataframe\">\n",
       "  <thead>\n",
       "    <tr style=\"text-align: right;\">\n",
       "      <th></th>\n",
       "      <th>emp_no</th>\n",
       "      <th>salary</th>\n",
       "      <th>emp_title</th>\n",
       "      <th>birth_date</th>\n",
       "      <th>first_name</th>\n",
       "      <th>last_name</th>\n",
       "      <th>sex</th>\n",
       "      <th>hire_date</th>\n",
       "      <th>title_id</th>\n",
       "      <th>title</th>\n",
       "    </tr>\n",
       "  </thead>\n",
       "  <tbody>\n",
       "    <tr>\n",
       "      <th>0</th>\n",
       "      <td>10001</td>\n",
       "      <td>60117</td>\n",
       "      <td>e0003</td>\n",
       "      <td>9/2/1953</td>\n",
       "      <td>Georgi</td>\n",
       "      <td>Facello</td>\n",
       "      <td>M</td>\n",
       "      <td>1986-06-26</td>\n",
       "      <td>e0003</td>\n",
       "      <td>Senior Engineer</td>\n",
       "    </tr>\n",
       "    <tr>\n",
       "      <th>1</th>\n",
       "      <td>10003</td>\n",
       "      <td>40006</td>\n",
       "      <td>e0003</td>\n",
       "      <td>12/3/1959</td>\n",
       "      <td>Parto</td>\n",
       "      <td>Bamford</td>\n",
       "      <td>M</td>\n",
       "      <td>1986-08-28</td>\n",
       "      <td>e0003</td>\n",
       "      <td>Senior Engineer</td>\n",
       "    </tr>\n",
       "    <tr>\n",
       "      <th>2</th>\n",
       "      <td>10004</td>\n",
       "      <td>40054</td>\n",
       "      <td>e0003</td>\n",
       "      <td>5/1/1954</td>\n",
       "      <td>Chirstian</td>\n",
       "      <td>Koblick</td>\n",
       "      <td>M</td>\n",
       "      <td>1986-12-01</td>\n",
       "      <td>e0003</td>\n",
       "      <td>Senior Engineer</td>\n",
       "    </tr>\n",
       "    <tr>\n",
       "      <th>3</th>\n",
       "      <td>10006</td>\n",
       "      <td>40000</td>\n",
       "      <td>e0003</td>\n",
       "      <td>4/20/1953</td>\n",
       "      <td>Anneke</td>\n",
       "      <td>Preusig</td>\n",
       "      <td>F</td>\n",
       "      <td>1989-06-02</td>\n",
       "      <td>e0003</td>\n",
       "      <td>Senior Engineer</td>\n",
       "    </tr>\n",
       "    <tr>\n",
       "      <th>4</th>\n",
       "      <td>10009</td>\n",
       "      <td>60929</td>\n",
       "      <td>e0003</td>\n",
       "      <td>4/19/1952</td>\n",
       "      <td>Sumant</td>\n",
       "      <td>Peac</td>\n",
       "      <td>F</td>\n",
       "      <td>1985-02-18</td>\n",
       "      <td>e0003</td>\n",
       "      <td>Senior Engineer</td>\n",
       "    </tr>\n",
       "  </tbody>\n",
       "</table>\n",
       "</div>"
      ],
      "text/plain": [
       "   emp_no  salary emp_title birth_date first_name last_name sex   hire_date  \\\n",
       "0   10001   60117     e0003   9/2/1953     Georgi   Facello   M  1986-06-26   \n",
       "1   10003   40006     e0003  12/3/1959      Parto   Bamford   M  1986-08-28   \n",
       "2   10004   40054     e0003   5/1/1954  Chirstian   Koblick   M  1986-12-01   \n",
       "3   10006   40000     e0003  4/20/1953     Anneke   Preusig   F  1989-06-02   \n",
       "4   10009   60929     e0003  4/19/1952     Sumant      Peac   F  1985-02-18   \n",
       "\n",
       "  title_id            title  \n",
       "0    e0003  Senior Engineer  \n",
       "1    e0003  Senior Engineer  \n",
       "2    e0003  Senior Engineer  \n",
       "3    e0003  Senior Engineer  \n",
       "4    e0003  Senior Engineer  "
      ]
     },
     "execution_count": 96,
     "metadata": {},
     "output_type": "execute_result"
    }
   ],
   "source": [
    "df = sal.merge(employees, on = \"emp_no\")\n",
    "df = df.merge(title, left_on = \"emp_title\", right_on = \"title_id\")\n",
    "df.head()"
   ]
  },
  {
   "cell_type": "code",
   "execution_count": 97,
   "id": "b27f7556-2870-4956-8ac2-d1e25753af94",
   "metadata": {},
   "outputs": [
    {
     "data": {
      "image/png": "[encoded data removed]",
      "text/plain": [
       "<Figure size 432x288 with 1 Axes>"
      ]
     },
     "metadata": {
      "needs_background": "light"
     },
     "output_type": "display_data"
    }
   ],
   "source": [
    "plt.hist(df.salary)\n",
    "plt.xlabel(\"Salary\")\n",
    "plt.ylabel(\"Count\");"
   ]
  },
  {
   "cell_type": "code",
   "execution_count": 98,
   "id": "995abb60-5a29-49a9-a294-e33d54fc269e",
   "metadata": {},
   "outputs": [
    {
     "data": {
      "text/plain": [
       "title\n",
       "Assistant Engineer    48564.434447\n",
       "Engineer              48535.336511\n",
       "Manager               51531.041667\n",
       "Senior Engineer       48506.799871\n",
       "Senior Staff          58550.172704\n",
       "Staff                 58465.382850\n",
       "Technique Leader      48582.896092\n",
       "Name: salary, dtype: float64"
      ]
     },
     "execution_count": 98,
     "metadata": {},
     "output_type": "execute_result"
    }
   ],
   "source": [
    "#mean salaries by job title\n",
    "dfsal = pd.DataFrame(df.groupby(df.title).mean())[\"salary\"]\n",
    "dfsal"
   ]
  },
  {
   "cell_type": "code",
   "execution_count": 99,
   "id": "5155c196-1d02-4cda-a376-1ac08b219458",
   "metadata": {},
   "outputs": [
    {
     "data": {
      "image/png": "[encoded data removed]",
      "text/plain": [
       "<Figure size 432x288 with 1 Axes>"
      ]
     },
     "metadata": {
      "needs_background": "light"
     },
     "output_type": "display_data"
    }
   ],
   "source": [
    "dfsal = dfsal.sort_values()\n",
    "dfsal.plot.barh(title = \"Salary by Job Title\");"
   ]
  },
  {
   "cell_type": "code",
   "execution_count": 100,
   "id": "fbe53db3-12e2-4f4a-a097-53f5ad25330a",
   "metadata": {},
   "outputs": [
    {
     "data": {
      "text/html": [
       "<div>\n",
       "<style scoped>\n",
       "    .dataframe tbody tr th:only-of-type {\n",
       "        vertical-align: middle;\n",
       "    }\n",
       "\n",
       "    .dataframe tbody tr th {\n",
       "        vertical-align: top;\n",
       "    }\n",
       "\n",
       "    .dataframe thead th {\n",
       "        text-align: right;\n",
       "    }\n",
       "</style>\n",
       "<table border=\"1\" class=\"dataframe\">\n",
       "  <thead>\n",
       "    <tr style=\"text-align: right;\">\n",
       "      <th></th>\n",
       "      <th>emp_no</th>\n",
       "      <th>salary</th>\n",
       "      <th>emp_title</th>\n",
       "      <th>birth_date</th>\n",
       "      <th>first_name</th>\n",
       "      <th>last_name</th>\n",
       "      <th>sex</th>\n",
       "      <th>hire_date</th>\n",
       "      <th>title_id</th>\n",
       "      <th>title</th>\n",
       "    </tr>\n",
       "  </thead>\n",
       "  <tbody>\n",
       "    <tr>\n",
       "      <th>299999</th>\n",
       "      <td>499942</td>\n",
       "      <td>40000</td>\n",
       "      <td>e0004</td>\n",
       "      <td>1/10/1963</td>\n",
       "      <td>April</td>\n",
       "      <td>Foolsday</td>\n",
       "      <td>F</td>\n",
       "      <td>1997-02-10</td>\n",
       "      <td>e0004</td>\n",
       "      <td>Technique Leader</td>\n",
       "    </tr>\n",
       "  </tbody>\n",
       "</table>\n",
       "</div>"
      ],
      "text/plain": [
       "        emp_no  salary emp_title birth_date first_name last_name sex  \\\n",
       "299999  499942   40000     e0004  1/10/1963      April  Foolsday   F   \n",
       "\n",
       "         hire_date title_id             title  \n",
       "299999  1997-02-10    e0004  Technique Leader  "
      ]
     },
     "execution_count": 100,
     "metadata": {},
     "output_type": "execute_result"
    }
   ],
   "source": [
    "df[df['emp_no'] == 499942]\n",
    "# april foolsday is the name"
   ]
  },
  {
   "cell_type": "code",
   "execution_count": null,
   "id": "50a23e6b-73d0-4141-92e8-63338dbc3863",
   "metadata": {},
   "outputs": [],
   "source": []
  }
 ],
 "metadata": {
  "kernelspec": {
   "display_name": "Python 3 (ipykernel)",
   "language": "python",
   "name": "python3"
  },
  "language_info": {
   "codemirror_mode": {
    "name": "ipython",
    "version": 3
   },
   "file_extension": ".py",
   "mimetype": "text/x-python",
   "name": "python",
   "nbconvert_exporter": "python",
   "pygments_lexer": "ipython3",
   "version": "3.8.8"
  },
  "widgets": {
   "application/vnd.jupyter.widget-state+json": {
    "state": {},
    "version_major": 2,
    "version_minor": 0
   }
  }
 },
 "nbformat": 4,
 "nbformat_minor": 5
}
